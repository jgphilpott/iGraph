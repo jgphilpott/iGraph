{
 "cells": [
  {
   "cell_type": "code",
   "execution_count": null,
   "metadata": {},
   "outputs": [],
   "source": [
    "pip install pymongo"
   ]
  },
  {
   "cell_type": "code",
   "execution_count": null,
   "metadata": {},
   "outputs": [],
   "source": [
    "from os import environ\n",
    "from pymongo import MongoClient"
   ]
  },
  {
   "cell_type": "code",
   "execution_count": null,
   "metadata": {},
   "outputs": [],
   "source": [
    "client = MongoClient(environ[\"MONGO_PORT_27017_TCP_ADDR\"], 27017)\n",
    "database = client.polyplot\n",
    "collection = database[\"maps\"]"
   ]
  },
  {
   "cell_type": "code",
   "execution_count": null,
   "metadata": {},
   "outputs": [],
   "source": [
    "def find_map(query={}, filter={\"_id\": 0}, **kwargs):\n",
    "\n",
    "    return dict(collection.find_one(query, filter))[\"detail\"][kwargs[\"detail\"]]\n",
    "\n",
    "def find_maps(query={}, filter={\"_id\": 0}, **kwargs):\n",
    "\n",
    "    maps = []\n",
    "\n",
    "    for map in list(collection.find(query, filter)):\n",
    "\n",
    "        maps.append(map[\"detail\"][kwargs[\"detail\"]])\n",
    "\n",
    "    return maps"
   ]
  }
 ],
 "metadata": {
  "kernelspec": {
   "display_name": "Python 3",
   "language": "python",
   "name": "python3"
  },
  "language_info": {
   "codemirror_mode": {
    "name": "ipython",
    "version": 3
   },
   "file_extension": ".py",
   "mimetype": "text/x-python",
   "name": "python",
   "nbconvert_exporter": "python",
   "pygments_lexer": "ipython3",
   "version": "3.8.6"
  }
 },
 "nbformat": 4,
 "nbformat_minor": 4
}
