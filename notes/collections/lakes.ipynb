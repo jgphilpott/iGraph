{
 "cells": [
  {
   "cell_type": "markdown",
   "metadata": {},
   "source": [
    "# Installs"
   ]
  },
  {
   "cell_type": "code",
   "execution_count": null,
   "metadata": {},
   "outputs": [],
   "source": [
    "pip install pymongo"
   ]
  },
  {
   "cell_type": "code",
   "execution_count": null,
   "metadata": {},
   "outputs": [],
   "source": [
    "pip install matplotlib"
   ]
  },
  {
   "cell_type": "markdown",
   "metadata": {},
   "source": [
    "# Imports"
   ]
  },
  {
   "cell_type": "code",
   "execution_count": null,
   "metadata": {},
   "outputs": [],
   "source": [
    "from os import environ\n",
    "from pprint import pprint as pp\n",
    "from pymongo import MongoClient\n",
    "import matplotlib.pyplot as plt"
   ]
  },
  {
   "cell_type": "markdown",
   "metadata": {},
   "source": [
    "# Database Link"
   ]
  },
  {
   "cell_type": "code",
   "execution_count": null,
   "metadata": {},
   "outputs": [],
   "source": [
    "client = MongoClient(environ[\"MONGO_PORT_27017_TCP_ADDR\"], 27017)\n",
    "database = client.polyplot\n",
    "collection = database[\"lakes\"]"
   ]
  },
  {
   "cell_type": "markdown",
   "metadata": {},
   "source": [
    "# Basic Functions"
   ]
  },
  {
   "cell_type": "code",
   "execution_count": null,
   "metadata": {},
   "outputs": [],
   "source": [
    "def find_lake(query={}, filter={\"_id\": 0}):\n",
    "\n",
    "    return dict(collection.find_one(query, filter))\n",
    "\n",
    "def find_lakes(query={}, filter={\"_id\": 0}, sort=[(\"id\", 1)]):\n",
    "\n",
    "    return list(collection.find(query, filter).sort(sort))"
   ]
  },
  {
   "cell_type": "markdown",
   "metadata": {},
   "source": [
    "# Lake Rank\n",
    "\n",
    "Lake rank is an integer between 1 and 10 used to indicate the lake's size/significance.\n",
    "\n",
    "The cell below displays a simple histogram to help visualize the distribution of lake ranks.\n",
    "\n",
    "For more information look [here](https://www.naturalearthdata.com/downloads/10m-physical-vectors/10m-lakes)."
   ]
  },
  {
   "cell_type": "code",
   "execution_count": null,
   "metadata": {},
   "outputs": [],
   "source": [
    "ranks = []\n",
    "\n",
    "for lake in find_lakes():\n",
    "    ranks.append(lake[\"rank\"])\n",
    "\n",
    "plt.hist(ranks, bins=10)\n",
    "plt.show()"
   ]
  }
 ],
 "metadata": {
  "kernelspec": {
   "display_name": "Python 3",
   "language": "python",
   "name": "python3"
  },
  "language_info": {
   "codemirror_mode": {
    "name": "ipython",
    "version": 3
   },
   "file_extension": ".py",
   "mimetype": "text/x-python",
   "name": "python",
   "nbconvert_exporter": "python",
   "pygments_lexer": "ipython3",
   "version": "3.8.6"
  }
 },
 "nbformat": 4,
 "nbformat_minor": 4
}
